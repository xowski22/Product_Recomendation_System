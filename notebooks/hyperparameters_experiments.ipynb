{
 "cells": [
  {
   "cell_type": "code",
   "id": "initial_id",
   "metadata": {
    "collapsed": true,
    "ExecuteTime": {
     "end_time": "2025-01-27T11:18:50.882805Z",
     "start_time": "2025-01-27T11:18:49.507956Z"
    }
   },
   "source": [
    "import mlflow\n",
    "import pandas as pd\n",
    "import numpy as np\n",
    "from itertools import product\n",
    "import seaborn as sns\n",
    "import matplotlib.pyplot as plt\n",
    "import yaml\n",
    "from pathlib import Path\n",
    "from src.models.model import MatrixFactorization\n",
    "from src.data.preprocessing import load_ml1m_data, preprocess_ratings, split_data\n",
    "from src.data.dataset import RecommenderDataset\n",
    "from src.training.trainer import train_model\n",
    "from torch.utils.data import DataLoader"
   ],
   "outputs": [],
   "execution_count": 1
  },
  {
   "metadata": {
    "ExecuteTime": {
     "end_time": "2025-01-27T11:18:50.886936Z",
     "start_time": "2025-01-27T11:18:50.885244Z"
    }
   },
   "cell_type": "code",
   "source": [
    "hyperparameter_grind = {\n",
    "    'embedding_dim' : [50, 100, 150],\n",
    "    'reg_lambda' : [0.001, 0.01, 0.1],\n",
    "    'dropout' : [0.1, 0.2, 0.3]\n",
    "}"
   ],
   "id": "d914ae10f4864594",
   "outputs": [],
   "execution_count": 2
  },
  {
   "metadata": {
    "ExecuteTime": {
     "end_time": "2025-01-27T11:18:50.933879Z",
     "start_time": "2025-01-27T11:18:50.931953Z"
    }
   },
   "cell_type": "code",
   "source": [
    "def prepare_data(config):\n",
    "\n",
    "    ratings_df, _ = load_ml1m_data('../data/raw/ml-1m')\n",
    "    processed_df, user_mapping, item_mapping = preprocess_ratings(ratings_df)\n",
    "    train_data, val_data = split_data(processed_df)\n",
    "\n",
    "    train_dataset = RecommenderDataset(train_data)\n",
    "    val_dataset = RecommenderDataset(val_data)\n",
    "\n",
    "    train_loader = DataLoader(\n",
    "        train_dataset,\n",
    "        batch_size=config['training']['batch_size'],\n",
    "        shuffle=True)\n",
    "    val_loader = DataLoader(\n",
    "        val_dataset,\n",
    "        batch_size=config['training']['batch_size'],\n",
    "        shuffle=False\n",
    "    )\n",
    "\n",
    "    return train_loader, val_loader, len(user_mapping), len(item_mapping)"
   ],
   "id": "e945fe12b3d6667d",
   "outputs": [],
   "execution_count": 3
  },
  {
   "metadata": {
    "ExecuteTime": {
     "end_time": "2025-01-27T11:18:50.977273Z",
     "start_time": "2025-01-27T11:18:50.975326Z"
    }
   },
   "cell_type": "code",
   "source": [
    "def run_hyperparameter_experiment(config, hyperparams, train_loader, val_loader):\n",
    "\n",
    "    model = MatrixFactorization(\n",
    "        num_users=config['num_users'],\n",
    "        n_items=config['n_items'],\n",
    "        embedding_dim=hyperparams['embedding_dim'],\n",
    "        reg_lambda=hyperparams['reg_lambda'],\n",
    "    )\n",
    "\n",
    "    trained_model = train_model(model, train_loader, val_loader, config)\n",
    "    return trained_model\n"
   ],
   "id": "cd868b72f22c7d15",
   "outputs": [],
   "execution_count": 4
  },
  {
   "metadata": {
    "ExecuteTime": {
     "end_time": "2025-01-27T11:18:51.024284Z",
     "start_time": "2025-01-27T11:18:51.021989Z"
    }
   },
   "cell_type": "code",
   "source": [
    "def run_experiments(config):\n",
    "\n",
    "    train_loader, val_loader, num_users, n_items = prepare_data(config)\n",
    "\n",
    "    config.update({\n",
    "        'num_users': num_users,\n",
    "        'n_items': n_items\n",
    "    })\n",
    "\n",
    "    results = []\n",
    "\n",
    "    try:\n",
    "        mlflow.end_run()\n",
    "    except:\n",
    "        pass\n",
    "\n",
    "    with mlflow.start_run(run_name=\"Hyperparameter_optimization\") as parent_run:\n",
    "        for params in product(*hyperparameter_grind.values()):\n",
    "            hyperparams = dict(zip(hyperparameter_grind.keys(), params))\n",
    "            print(f\"Running experiment with parameters: {hyperparams}\")\n",
    "\n",
    "            with mlflow.start_run(nested=True) as child_run:\n",
    "\n",
    "                model = run_hyperparameter_experiment(\n",
    "                    config,\n",
    "                    hyperparams,\n",
    "                    train_loader,\n",
    "                    val_loader\n",
    "                )\n",
    "\n",
    "                mlflow.log_params(hyperparams)\n",
    "\n",
    "                results.append({\n",
    "                    'params': hyperparams,\n",
    "                    'model': model,\n",
    "                })\n",
    "\n",
    "        return results"
   ],
   "id": "fd2cbcb0913b5d58",
   "outputs": [],
   "execution_count": 5
  },
  {
   "metadata": {
    "jupyter": {
     "is_executing": true
    },
    "ExecuteTime": {
     "start_time": "2025-01-27T11:18:51.069338Z"
    }
   },
   "cell_type": "code",
   "source": [
    "if __name__ == '__main__':\n",
    "    with open('../config/config.yaml', 'r') as f:\n",
    "        config = yaml.safe_load(f)\n",
    "\n",
    "    results = run_experiments(config)"
   ],
   "id": "bc465cce29698156",
   "outputs": [
    {
     "name": "stdout",
     "output_type": "stream",
     "text": [
      "Running experiment with parameters: {'embedding_dim': 50, 'reg_lambda': 0.001, 'dropout': 0.1}\n",
      "Epoch 1/20 \n",
      "Train Loss: 94.89088502786574\n",
      "Val Loss: 0.8647535067392479\n",
      "----------------------------------------\n",
      "Epoch 2/20 \n",
      "Train Loss: 0.8385709598594919\n",
      "Val Loss: 0.8324703486422964\n",
      "----------------------------------------\n",
      "Epoch 3/20 \n",
      "Train Loss: 0.8213156574269939\n",
      "Val Loss: 0.8280007847115846\n",
      "----------------------------------------\n",
      "Epoch 4/20 \n",
      "Train Loss: 0.817450431011433\n",
      "Val Loss: 0.8273664490246498\n",
      "----------------------------------------\n"
     ]
    }
   ],
   "execution_count": null
  }
 ],
 "metadata": {
  "kernelspec": {
   "display_name": "Python 3",
   "language": "python",
   "name": "python3"
  },
  "language_info": {
   "codemirror_mode": {
    "name": "ipython",
    "version": 2
   },
   "file_extension": ".py",
   "mimetype": "text/x-python",
   "name": "python",
   "nbconvert_exporter": "python",
   "pygments_lexer": "ipython2",
   "version": "2.7.6"
  }
 },
 "nbformat": 4,
 "nbformat_minor": 5
}
