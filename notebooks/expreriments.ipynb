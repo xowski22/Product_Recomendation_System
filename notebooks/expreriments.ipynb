{
 "cells": [
  {
   "metadata": {
    "ExecuteTime": {
     "end_time": "2025-01-20T15:49:03.877437Z",
     "start_time": "2025-01-20T15:49:03.875678Z"
    }
   },
   "cell_type": "code",
   "source": [
    "import sys\n",
    "from pathlib import Path\n",
    "sys.path.append(str(Path.cwd().parent.parent / 'src'))\n",
    "from src.data.preprocessing import load_ml1m_data, preprocess_ratings\n",
    "import pandas as pd\n",
    "import numpy as np\n",
    "import matplotlib.pyplot as plt\n",
    "import seaborn as sns"
   ],
   "id": "97db6e2f7bac722e",
   "outputs": [],
   "execution_count": 5
  },
  {
   "metadata": {
    "ExecuteTime": {
     "end_time": "2025-01-20T15:54:36.694841Z",
     "start_time": "2025-01-20T15:54:34.925338Z"
    }
   },
   "cell_type": "code",
   "source": [
    "sns.set_style(style='darkgrid')\n",
    "\n",
    "data_dir= \"../data/raw/ml-1m\"\n",
    "ratings_df, movies_df = load_ml1m_data(data_dir)\n",
    "\n",
    "print(\"Basic info about dataset:\")\n",
    "print(\"\\nRatings info:\")\n",
    "print(ratings_df.info)"
   ],
   "id": "c6137433f5843e3a",
   "outputs": [
    {
     "name": "stdout",
     "output_type": "stream",
     "text": [
      "Basic info about dataset:\n",
      "\n",
      "Zbiór ocen:\n",
      "<bound method DataFrame.info of          user_id  movie_id  rating  timestamp\n",
      "0              1      1193       5  978300760\n",
      "1              1       661       3  978302109\n",
      "2              1       914       3  978301968\n",
      "3              1      3408       4  978300275\n",
      "4              1      2355       5  978824291\n",
      "...          ...       ...     ...        ...\n",
      "1000204     6040      1091       1  956716541\n",
      "1000205     6040      1094       5  956704887\n",
      "1000206     6040       562       5  956704746\n",
      "1000207     6040      1096       4  956715648\n",
      "1000208     6040      1097       4  956715569\n",
      "\n",
      "[1000209 rows x 4 columns]>\n"
     ]
    }
   ],
   "execution_count": 11
  }
 ],
 "metadata": {
  "kernelspec": {
   "display_name": "Python 3",
   "language": "python",
   "name": "python3"
  },
  "language_info": {
   "codemirror_mode": {
    "name": "ipython",
    "version": 2
   },
   "file_extension": ".py",
   "mimetype": "text/x-python",
   "name": "python",
   "nbconvert_exporter": "python",
   "pygments_lexer": "ipython2",
   "version": "2.7.6"
  }
 },
 "nbformat": 4,
 "nbformat_minor": 5
}
