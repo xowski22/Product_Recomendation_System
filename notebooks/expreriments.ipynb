{
 "cells": [
  {
   "metadata": {
    "ExecuteTime": {
     "end_time": "2025-01-26T13:00:24.258244Z",
     "start_time": "2025-01-26T13:00:22.296013Z"
    }
   },
   "cell_type": "code",
   "source": [
    "import sys\n",
    "from pathlib import Path\n",
    "sys.path.append(str(Path.cwd().parent / 'src'))\n",
    "\n",
    "from src.data.preprocessing import load_ml1m_data\n",
    "import pandas as pd\n",
    "import numpy as np\n",
    "import matplotlib.pyplot as plt\n",
    "import seaborn as sns\n",
    "\n",
    "sns.set_style(\"darkgrid\")\n",
    "\n",
    "# Wczytanie danych\n",
    "data_dir = \"../data/raw/ml-1m\"\n",
    "ratings_df, movies_df = load_ml1m_data(data_dir)"
   ],
   "id": "43c3b8b223a4c2c6",
   "outputs": [],
   "execution_count": 2
  },
  {
   "metadata": {
    "ExecuteTime": {
     "end_time": "2025-01-26T13:00:24.266762Z",
     "start_time": "2025-01-26T13:00:24.262394Z"
    }
   },
   "cell_type": "code",
   "source": [
    "print(\"Basic info about dataset:\")\n",
    "print(ratings_df.info())"
   ],
   "id": "3a7ee593125d5b29",
   "outputs": [
    {
     "name": "stdout",
     "output_type": "stream",
     "text": [
      "Basic info about dataset:\n",
      "<class 'pandas.core.frame.DataFrame'>\n",
      "RangeIndex: 1000209 entries, 0 to 1000208\n",
      "Data columns (total 4 columns):\n",
      " #   Column     Non-Null Count    Dtype\n",
      "---  ------     --------------    -----\n",
      " 0   user_id    1000209 non-null  int64\n",
      " 1   movie_id   1000209 non-null  int64\n",
      " 2   rating     1000209 non-null  int64\n",
      " 3   timestamp  1000209 non-null  int64\n",
      "dtypes: int64(4)\n",
      "memory usage: 30.5 MB\n",
      "None\n"
     ]
    }
   ],
   "execution_count": 3
  },
  {
   "metadata": {
    "ExecuteTime": {
     "end_time": "2025-01-26T13:00:24.319255Z",
     "start_time": "2025-01-26T13:00:24.308420Z"
    }
   },
   "cell_type": "code",
   "source": [
    "print(\"\\nRating statistics:\")\n",
    "print(ratings_df['rating'].describe())"
   ],
   "id": "9684c33a46eb693f",
   "outputs": [
    {
     "name": "stdout",
     "output_type": "stream",
     "text": [
      "\n",
      "Rating statistics:\n",
      "count    1.000209e+06\n",
      "mean     3.581564e+00\n",
      "std      1.117102e+00\n",
      "min      1.000000e+00\n",
      "25%      3.000000e+00\n",
      "50%      4.000000e+00\n",
      "75%      4.000000e+00\n",
      "max      5.000000e+00\n",
      "Name: rating, dtype: float64\n"
     ]
    }
   ],
   "execution_count": 4
  },
  {
   "metadata": {
    "ExecuteTime": {
     "end_time": "2025-01-26T13:00:24.364565Z",
     "start_time": "2025-01-26T13:00:24.357942Z"
    }
   },
   "cell_type": "code",
   "source": [
    "n_users = ratings_df['user_id'].nunique()\n",
    "n_movies = ratings_df['movie_id'].nunique()\n",
    "n_ratings = len(ratings_df)\n",
    "\n",
    "print(f\"\\nLiczba unikalnych użytkowników: {n_users}\")\n",
    "print(f\"Liczba unikalnych filmów: {n_movies}\")\n",
    "print(f\"Całkowita liczba ocen: {n_ratings}\")\n",
    "print(f\"Gęstość macierzy ocen: {n_ratings / (n_users * n_movies):.4%}\")"
   ],
   "id": "c6137433f5843e3a",
   "outputs": [
    {
     "name": "stdout",
     "output_type": "stream",
     "text": [
      "\n",
      "Liczba unikalnych użytkowników: 6040\n",
      "Liczba unikalnych filmów: 3706\n",
      "Całkowita liczba ocen: 1000209\n",
      "Gęstość macierzy ocen: 4.4684%\n"
     ]
    }
   ],
   "execution_count": 5
  },
  {
   "metadata": {
    "ExecuteTime": {
     "end_time": "2025-01-26T13:00:24.419347Z",
     "start_time": "2025-01-26T13:00:24.407709Z"
    }
   },
   "cell_type": "code",
   "source": "plt. figure(figsize=(15, 5))",
   "id": "3434fb70d6e97fd2",
   "outputs": [
    {
     "data": {
      "text/plain": [
       "<Figure size 1500x500 with 0 Axes>"
      ]
     },
     "execution_count": 6,
     "metadata": {},
     "output_type": "execute_result"
    },
    {
     "data": {
      "text/plain": [
       "<Figure size 1500x500 with 0 Axes>"
      ]
     },
     "metadata": {},
     "output_type": "display_data"
    }
   ],
   "execution_count": 6
  },
  {
   "metadata": {
    "ExecuteTime": {
     "end_time": "2025-01-26T13:00:24.595348Z",
     "start_time": "2025-01-26T13:00:24.457250Z"
    }
   },
   "cell_type": "code",
   "source": [
    "#Rozkład ocen\n",
    "plt.subplot(131)\n",
    "sns.histplot(data=ratings_df, x='rating', bins=5)\n",
    "plt.title('Rozkaład ocen filmów')\n",
    "plt.xlabel('Ocena')\n",
    "plt.ylabel('Liczba ocen')"
   ],
   "id": "e61524bc65f35b07",
   "outputs": [
    {
     "data": {
      "text/plain": [
       "Text(0, 0.5, 'Liczba ocen')"
      ]
     },
     "execution_count": 7,
     "metadata": {},
     "output_type": "execute_result"
    },
    {
     "data": {
      "text/plain": [
       "<Figure size 640x480 with 1 Axes>"
      ],
      "image/png": "[encoded data removed]"
     },
     "metadata": {},
     "output_type": "display_data"
    }
   ],
   "execution_count": 7
  },
  {
   "metadata": {
    "ExecuteTime": {
     "end_time": "2025-01-26T13:00:24.661183Z",
     "start_time": "2025-01-26T13:00:24.599097Z"
    }
   },
   "cell_type": "code",
   "source": [
    "#Rozkład liczby ocen per film\n",
    "plt.subplot(132)\n",
    "user_ratings = ratings_df.groupby('user_id')['rating'].count()\n",
    "sns.histplot(data=user_ratings, bins=30)\n",
    "plt.title('Liczba ocen per film')\n",
    "plt.xlabel('Liczba ocen')\n",
    "plt.ylabel('Liczba użytkowników')"
   ],
   "id": "296d011ad41e96eb",
   "outputs": [
    {
     "data": {
      "text/plain": [
       "Text(0, 0.5, 'Liczba użytkowników')"
      ]
     },
     "execution_count": 8,
     "metadata": {},
     "output_type": "execute_result"
    },
    {
     "data": {
      "text/plain": [
       "<Figure size 640x480 with 1 Axes>"
      ],
      "image/png": "[encoded data removed]"
     },
     "metadata": {},
     "output_type": "display_data"
    }
   ],
   "execution_count": 8
  },
  {
   "metadata": {
    "ExecuteTime": {
     "end_time": "2025-01-26T13:00:24.724323Z",
     "start_time": "2025-01-26T13:00:24.665010Z"
    }
   },
   "cell_type": "code",
   "source": [
    "#Rozkład liczby ocen per film\n",
    "plt.subplot(133)\n",
    "user_ratings = ratings_df.groupby('movie_id')['rating'].count()\n",
    "sns.histplot(data=user_ratings, bins=30)\n",
    "plt.title('Liczba ocen per film')\n",
    "plt.xlabel('Liczba ocen')\n",
    "plt.ylabel('Liczba filmów')"
   ],
   "id": "618f79bba762b419",
   "outputs": [
    {
     "data": {
      "text/plain": [
       "Text(0, 0.5, 'Liczba filmów')"
      ]
     },
     "execution_count": 9,
     "metadata": {},
     "output_type": "execute_result"
    },
    {
     "data": {
      "text/plain": [
       "<Figure size 640x480 with 1 Axes>"
      ],
      "image/png": "[encoded data removed]"
     },
     "metadata": {},
     "output_type": "display_data"
    }
   ],
   "execution_count": 9
  },
  {
   "metadata": {
    "ExecuteTime": {
     "end_time": "2025-01-26T13:00:24.732873Z",
     "start_time": "2025-01-26T13:00:24.731062Z"
    }
   },
   "cell_type": "code",
   "source": [
    "plt.tight_layout()\n",
    "plt.show()"
   ],
   "id": "dd83694b8b1ae26",
   "outputs": [
    {
     "data": {
      "text/plain": [
       "<Figure size 640x480 with 0 Axes>"
      ]
     },
     "metadata": {},
     "output_type": "display_data"
    }
   ],
   "execution_count": 10
  },
  {
   "metadata": {},
   "cell_type": "markdown",
   "source": "Dodać lepsze histogramy, uzupełnić wykresy",
   "id": "a6db06e9577a4eff"
  },
  {
   "metadata": {},
   "cell_type": "markdown",
   "source": "Overfitting issue in training",
   "id": "176203773268c379"
  },
  {
   "metadata": {
    "ExecuteTime": {
     "end_time": "2025-01-26T13:00:24.788607Z",
     "start_time": "2025-01-26T13:00:24.777626Z"
    }
   },
   "cell_type": "code",
   "source": [
    "rating_stats = ratings_df['rating'].describe()\n",
    "print(\"Rating statistics before normalization:\")\n",
    "print(rating_stats)"
   ],
   "id": "95ec0c53fc667316",
   "outputs": [
    {
     "name": "stdout",
     "output_type": "stream",
     "text": [
      "Rating statistics before normalization:\n",
      "count    1.000209e+06\n",
      "mean     3.581564e+00\n",
      "std      1.117102e+00\n",
      "min      1.000000e+00\n",
      "25%      3.000000e+00\n",
      "50%      4.000000e+00\n",
      "75%      4.000000e+00\n",
      "max      5.000000e+00\n",
      "Name: rating, dtype: float64\n"
     ]
    }
   ],
   "execution_count": 11
  },
  {
   "metadata": {
    "ExecuteTime": {
     "end_time": "2025-01-26T13:01:24.369312Z",
     "start_time": "2025-01-26T13:01:24.366157Z"
    }
   },
   "cell_type": "code",
   "source": [
    "processed_ratings = ratings_df['rating'] / 5.0\n",
    "print(\"Rating statistics after normalization:\")\n",
    "print(processed_ratings)"
   ],
   "id": "297742f016f4b3c0",
   "outputs": [
    {
     "name": "stdout",
     "output_type": "stream",
     "text": [
      "Rating statistics after normalization:\n",
      "0          1.0\n",
      "1          0.6\n",
      "2          0.6\n",
      "3          0.8\n",
      "4          1.0\n",
      "          ... \n",
      "1000204    0.2\n",
      "1000205    1.0\n",
      "1000206    1.0\n",
      "1000207    0.8\n",
      "1000208    0.8\n",
      "Name: rating, Length: 1000209, dtype: float64\n"
     ]
    }
   ],
   "execution_count": 12
  }
 ],
 "metadata": {
  "kernelspec": {
   "display_name": "Python 3",
   "language": "python",
   "name": "python3"
  },
  "language_info": {
   "codemirror_mode": {
    "name": "ipython",
    "version": 2
   },
   "file_extension": ".py",
   "mimetype": "text/x-python",
   "name": "python",
   "nbconvert_exporter": "python",
   "pygments_lexer": "ipython2",
   "version": "2.7.6"
  }
 },
 "nbformat": 4,
 "nbformat_minor": 5
}
