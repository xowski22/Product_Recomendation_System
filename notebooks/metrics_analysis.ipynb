{
 "cells": [
  {
   "cell_type": "code",
   "id": "initial_id",
   "metadata": {
    "collapsed": true,
    "ExecuteTime": {
     "end_time": "2025-01-22T12:37:19.802308Z",
     "start_time": "2025-01-22T12:37:19.717597Z"
    }
   },
   "source": [
    "import sys\n",
    "from pathlib import Path\n",
    "sys.path.append(str(Path.cwd().parent / 'src'))\n",
    "\n",
    "import numpy as np\n",
    "from sklearn.metrics import mean_squared_error, mean_absolute_error\n",
    "from typing import List, Tuple\n",
    "import matplotlib.pyplot as plt\n",
    "import seaborn as sns"
   ],
   "outputs": [],
   "execution_count": 1
  },
  {
   "metadata": {
    "ExecuteTime": {
     "end_time": "2025-01-22T12:37:19.810115Z",
     "start_time": "2025-01-22T12:37:19.808391Z"
    }
   },
   "cell_type": "code",
   "source": "sns.set_style('darkgrid')",
   "id": "dfedeebd5236f76e",
   "outputs": [],
   "execution_count": 2
  },
  {
   "metadata": {
    "ExecuteTime": {
     "end_time": "2025-01-22T12:37:19.877154Z",
     "start_time": "2025-01-22T12:37:19.874750Z"
    }
   },
   "cell_type": "code",
   "source": [
    "#implementation of metrics\n",
    "def calculate_rmse(y_true: np.ndarray, y_pred: np.ndarray) -> float:\n",
    "    return np.sqrt(mean_squared_error(y_true, y_pred))\n",
    "\n",
    "def calculate_mae(y_true: np.ndarray, y_pred: np.ndarray) -> float:\n",
    "    return mean_absolute_error(y_true, y_pred)\n",
    "\n",
    "def precision_at_k(actual: List[int], predicted: List[int], k: int) -> float:\n",
    "    if len(predicted) > k:\n",
    "        predicted = predicted[:k]\n",
    "    return len(set(actual) & set(predicted)) / k\n",
    "\n",
    "def recall_at_k(actual: List[int], predicted: List[int], k: int) -> float:\n",
    "    if len(predicted) > k:\n",
    "        predicted = predicted[:k]\n",
    "    return len(set(actual) & set(predicted)) / len(actual)\n",
    "\n",
    "def ndcg_at_k(actual: List[int], predicted: List[int], k: int) -> float:\n",
    "    def dcg(scores: List[float]) -> float:\n",
    "        return np.sum([score /np.log2(i+2) for i, score in enumerate(scores[:k])])\n",
    "    \n",
    "    idcg = dcg(sorted(actual, reverse=True))\n",
    "    if idcg == 0:\n",
    "        return 0\n",
    "    return dcg(predicted) / idcg"
   ],
   "id": "febd2721666fbf0",
   "outputs": [],
   "execution_count": 3
  },
  {
   "metadata": {
    "ExecuteTime": {
     "end_time": "2025-01-22T12:46:50.746560Z",
     "start_time": "2025-01-22T12:46:50.744244Z"
    }
   },
   "cell_type": "code",
   "source": [
    "def demonstrate_metrics():\n",
    "    y_true = np.array([1, 2, 3, 4, 5])\n",
    "    y_pred = np.array([3.8, 4.7, 3.2, 4.1, 4.8])\n",
    "    \n",
    "    print(\"1.Metryka błędu przewidywania ocen:\")\n",
    "    rmse = calculate_rmse(y_true, y_pred)\n",
    "    mae = calculate_mae(y_true, y_pred)\n",
    "    print(f\"RMSE: {rmse}\")\n",
    "    print(f\"MAE: {mae}\")\n",
    "    \n",
    "    print(\"\\n2.Metryki trafności rekomendacji:\")\n",
    "    actual_items = [1, 2, 3, 4, 5]\n",
    "    predicted_items = [1, 3, 6, 2, 7, 8]\n",
    "    k=3\n",
    "    \n",
    "    precision = precision_at_k(actual_items, predicted_items, k)\n",
    "    recall = recall_at_k(actual_items, predicted_items, k)\n",
    "    print(f\"Precision@{k}: {precision}\")\n",
    "    print(f\"Recall@{k}: {recall}\")\n",
    "    \n",
    "    print(\"\\n3.Metryka jakości rankingu:\")\n",
    "    actual_relevance = [5, 4, 3, 2, 1]\n",
    "    predicted_relevance = [1, 2, 3, 4, 5]\n",
    "    k=5\n",
    "    \n",
    "    ndcg = ndcg_at_k(actual_relevance, predicted_relevance, k)\n",
    "    print(f\"NDCG@{k}: {ndcg}\")"
   ],
   "id": "3eefd052aa93a29b",
   "outputs": [],
   "execution_count": 8
  },
  {
   "metadata": {},
   "cell_type": "code",
   "outputs": [],
   "execution_count": null,
   "source": "",
   "id": "f8059aad9a7a4171"
  },
  {
   "metadata": {
    "ExecuteTime": {
     "end_time": "2025-01-22T12:46:52.394499Z",
     "start_time": "2025-01-22T12:46:52.392262Z"
    }
   },
   "cell_type": "code",
   "source": "demonstrate_metrics()",
   "id": "3ff10405ce82026e",
   "outputs": [
    {
     "name": "stdout",
     "output_type": "stream",
     "text": [
      "1.Metryka błędu przewidywania ocen:\n",
      "RMSE: 1.744706279005151\n",
      "MAE: 1.2\n",
      "\n",
      "2.Metryki trafności rekomendacji:\n",
      "Precision@3: 0.6666666666666666\n",
      "Recall@3: 0.4\n",
      "\n",
      "3.Metryka jakości rankingu:\n",
      "NDCG@5: 0.7222433789799553\n"
     ]
    }
   ],
   "execution_count": 9
  }
 ],
 "metadata": {
  "kernelspec": {
   "display_name": "Python 3",
   "language": "python",
   "name": "python3"
  },
  "language_info": {
   "codemirror_mode": {
    "name": "ipython",
    "version": 2
   },
   "file_extension": ".py",
   "mimetype": "text/x-python",
   "name": "python",
   "nbconvert_exporter": "python",
   "pygments_lexer": "ipython2",
   "version": "2.7.6"
  }
 },
 "nbformat": 4,
 "nbformat_minor": 5
}
