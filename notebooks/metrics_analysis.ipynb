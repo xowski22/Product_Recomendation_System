{
 "cells": [
  {
   "cell_type": "code",
   "id": "initial_id",
   "metadata": {
    "collapsed": true,
    "ExecuteTime": {
     "end_time": "2025-01-21T13:41:07.533096Z",
     "start_time": "2025-01-21T13:41:07.451779Z"
    }
   },
   "source": [
    "import sys\n",
    "from pathlib import Path\n",
    "sys.path.append(str(Path.cwd().parent / 'src'))\n",
    "\n",
    "import numpy as np\n",
    "from sklearn.metrics import mean_squared_error, mean_absolute_error\n",
    "from typing import List, Tuple\n",
    "import matplotlib.pyplot as plt\n",
    "import seaborn as sns"
   ],
   "outputs": [],
   "execution_count": 1
  },
  {
   "metadata": {
    "ExecuteTime": {
     "end_time": "2025-01-21T13:41:25.464160Z",
     "start_time": "2025-01-21T13:41:25.462484Z"
    }
   },
   "cell_type": "code",
   "source": "sns.set_style('darkgrid')",
   "id": "dfedeebd5236f76e",
   "outputs": [],
   "execution_count": 2
  },
  {
   "metadata": {
    "ExecuteTime": {
     "end_time": "2025-01-21T13:55:26.016893Z",
     "start_time": "2025-01-21T13:55:26.014082Z"
    }
   },
   "cell_type": "code",
   "source": [
    "#implementation of metrics\n",
    "def calculate_rmse(y_true: np.ndarray, y_pred: np.ndarray) -> float:\n",
    "    return np.sqrt(mean_squared_error(y_true, y_pred))\n",
    "\n",
    "def calculate_mae(y_true: np.ndarray, y_pred: np.ndarray) -> float:\n",
    "    return mean_absolute_error(y_true, y_pred)\n",
    "\n",
    "def precision_at_k(actual: List[int], predicted: List[int], k: int) -> float:\n",
    "    if len(predicted) > k:\n",
    "        predicted = predicted[:k]\n",
    "    return len(set(actual) & set(predicted)) / k\n",
    "\n",
    "def recall_at_k(actual: List[int], predicted: List[int], k: int) -> float:\n",
    "    if len(predicted) > k:\n",
    "        predicted = predicted[:k]\n",
    "    return len(set(actual) & set(predicted)) / len(actual)\n",
    "\n",
    "def ndcg_at_k(actual: List[int], predicted: List[int], k: int) -> float:\n",
    "    def dcg(scores: List[float]) -> float:\n",
    "        return np.sum([score /np.log2(i+2) for i, score in enumerate(scores[:k])])\n",
    "    \n",
    "    idcg = dcg(sorted(actual, reverse=True))\n",
    "    if idcg == 0:\n",
    "        return 0\n",
    "    return dcg(predicted) / idcg"
   ],
   "id": "febd2721666fbf0",
   "outputs": [],
   "execution_count": 6
  },
  {
   "metadata": {},
   "cell_type": "code",
   "outputs": [],
   "execution_count": null,
   "source": "",
   "id": "3eefd052aa93a29b"
  }
 ],
 "metadata": {
  "kernelspec": {
   "display_name": "Python 3",
   "language": "python",
   "name": "python3"
  },
  "language_info": {
   "codemirror_mode": {
    "name": "ipython",
    "version": 2
   },
   "file_extension": ".py",
   "mimetype": "text/x-python",
   "name": "python",
   "nbconvert_exporter": "python",
   "pygments_lexer": "ipython2",
   "version": "2.7.6"
  }
 },
 "nbformat": 4,
 "nbformat_minor": 5
}
